{
 "cells": [
  {
   "cell_type": "code",
   "execution_count": null,
   "id": "fea2aaf9-facb-406f-b526-8b59202a8352",
   "metadata": {},
   "outputs": [],
   "source": [
    "#ques 1\n",
    "In Python, the keyword used to create a function is def. "
   ]
  },
  {
   "cell_type": "code",
   "execution_count": 21,
   "id": "be92e234-ec65-408a-a362-dcf010cc534d",
   "metadata": {},
   "outputs": [],
   "source": [
    "l=[1,2,3,4,5,6,7,8,9,10,11,12,13,14,15,16,17,18,19,20,21,22,23,24,25]\n",
    "def odd():\n",
    "    l1=[]\n",
    "    for i in l:\n",
    "        if i % 2 != 0:\n",
    "            l.append(i)\n",
    "    return l1"
   ]
  },
  {
   "cell_type": "code",
   "execution_count": null,
   "id": "5dd8fd5d-a8ab-4f11-9519-ea346654cc5f",
   "metadata": {},
   "outputs": [],
   "source": [
    "odd()"
   ]
  },
  {
   "cell_type": "code",
   "execution_count": null,
   "id": "d4bca851-07da-4673-9a52-149e2b64813f",
   "metadata": {},
   "outputs": [],
   "source": [
    "#ques 2\n",
    "Sometimes we want to create functions that can take a varying number of arguments without knowing in \n",
    "advance how many there will be. That's where *args and **kwargs come in handy.\n",
    "*args - is like a container that can hold multiple values.It allows us to pass any number of arguments\n",
    "to a function.\n",
    "On the other hand, **kwargs stands for \"keyword arguments.\" It allows us to pass named arguments to a \n",
    "function, and these arguments are collected into a dictionary. "
   ]
  },
  {
   "cell_type": "code",
   "execution_count": 1,
   "id": "14130876-3fd5-4755-8d31-4dd7ba180d0b",
   "metadata": {},
   "outputs": [],
   "source": [
    "def test(*args):\n",
    "    return args"
   ]
  },
  {
   "cell_type": "code",
   "execution_count": 3,
   "id": "60a7d958-0a68-4cef-89c7-0670e2349584",
   "metadata": {},
   "outputs": [
    {
     "data": {
      "text/plain": [
       "(1, 2, 3, 45, 78)"
      ]
     },
     "execution_count": 3,
     "metadata": {},
     "output_type": "execute_result"
    }
   ],
   "source": [
    "test(1,2,3,45,78)"
   ]
  },
  {
   "cell_type": "code",
   "execution_count": 3,
   "id": "c0ff7591-5039-48ef-a83a-31efacff97ae",
   "metadata": {},
   "outputs": [],
   "source": [
    "def test1(**kwargs):\n",
    "    return kwargs"
   ]
  },
  {
   "cell_type": "code",
   "execution_count": 4,
   "id": "19fd288a-c31d-4e64-b137-350886cf34bd",
   "metadata": {},
   "outputs": [
    {
     "data": {
      "text/plain": [
       "{'name': 'kritika', 'course': 'data science'}"
      ]
     },
     "execution_count": 4,
     "metadata": {},
     "output_type": "execute_result"
    }
   ],
   "source": [
    "test1(name=\"kritika\", course = \"data science\")"
   ]
  },
  {
   "cell_type": "code",
   "execution_count": null,
   "id": "c084abb8-46ca-47f7-aacb-112e6944cd67",
   "metadata": {},
   "outputs": [],
   "source": [
    "#ques 3\n",
    "An iterator in Python is like a tool that helps us go through a bunch of items one by one. \n",
    "iter() is used to initialize the iterator object.\n",
    "next() is used for iteration, to retrieve each element from the iterator.\n"
   ]
  },
  {
   "cell_type": "code",
   "execution_count": 2,
   "id": "bba2aefe-37ca-4bdd-8354-2eb3f2efb703",
   "metadata": {},
   "outputs": [
    {
     "name": "stdout",
     "output_type": "stream",
     "text": [
      "2\n",
      "4\n",
      "6\n",
      "8\n",
      "10\n"
     ]
    }
   ],
   "source": [
    "l = [2, 4, 6, 8, 10, 12, 14, 16, 18, 20]\n",
    "a= iter(l)\n",
    "\n",
    "for i in range(5):\n",
    "    element = next(a)\n",
    "    print( element)"
   ]
  },
  {
   "cell_type": "code",
   "execution_count": null,
   "id": "be0a4de5-6b04-47c4-a9ae-7b4fdacfbe57",
   "metadata": {},
   "outputs": [],
   "source": [
    "ques 4\n",
    "A generator function in Python is a special type of function that generates a sequence of values \n",
    "on-the-fly, instead of returning a single value like a regular function.\n",
    "The yield keyword in Python is used in generator functions to define points where the function should\n",
    "temporarily pause its execution and yield a value to the caller.\n",
    "example of yield function is given below:-"
   ]
  },
  {
   "cell_type": "code",
   "execution_count": 3,
   "id": "8612c734-397b-40c6-889a-cfcae5e0201a",
   "metadata": {},
   "outputs": [],
   "source": [
    "def test_fib(n):\n",
    "    a,b = 0,1\n",
    "    for i in range(n):\n",
    "        yield a\n",
    "        a,b=b , a+b"
   ]
  },
  {
   "cell_type": "code",
   "execution_count": 4,
   "id": "f552e972-b356-46cd-a3fe-42dfde368548",
   "metadata": {},
   "outputs": [
    {
     "data": {
      "text/plain": [
       "<generator object test_fib at 0x7f45af46d4d0>"
      ]
     },
     "execution_count": 4,
     "metadata": {},
     "output_type": "execute_result"
    }
   ],
   "source": [
    "test_fib(10)"
   ]
  },
  {
   "cell_type": "code",
   "execution_count": 5,
   "id": "f40cb826-3773-436b-94ec-96cead1ff348",
   "metadata": {},
   "outputs": [
    {
     "name": "stdout",
     "output_type": "stream",
     "text": [
      "0\n",
      "1\n",
      "1\n",
      "2\n",
      "3\n",
      "5\n",
      "8\n",
      "13\n",
      "21\n",
      "34\n"
     ]
    }
   ],
   "source": [
    "for i in test_fib(10):\n",
    "    print (i)"
   ]
  },
  {
   "cell_type": "code",
   "execution_count": 15,
   "id": "3f8db7b8-140b-43c4-8db5-f8ea65e91901",
   "metadata": {},
   "outputs": [
    {
     "name": "stdout",
     "output_type": "stream",
     "text": [
      "2\n",
      "3\n",
      "5\n",
      "7\n",
      "11\n",
      "13\n",
      "17\n",
      "19\n",
      "23\n",
      "29\n",
      "31\n",
      "37\n",
      "41\n",
      "43\n",
      "47\n",
      "53\n",
      "59\n",
      "61\n",
      "67\n",
      "71\n"
     ]
    }
   ],
   "source": [
    "#ques 5\n",
    "def prime_generator():\n",
    "    primes = []\n",
    "    num = 2\n",
    "    while num < 1000:\n",
    "        is_prime = True\n",
    "        for prime in primes:\n",
    "            if num % prime == 0:\n",
    "                is_prime = False\n",
    "                break\n",
    "        if is_prime:\n",
    "            primes.append(num)\n",
    "            yield num\n",
    "        num += 1\n",
    "\n",
    "# Create the generator object\n",
    "generator = prime_generator()\n",
    "\n",
    "# Print the first 20 prime numbers\n",
    "for _ in range(20):\n",
    "    prime = next(generator)\n",
    "    print(prime)"
   ]
  },
  {
   "cell_type": "code",
   "execution_count": 16,
   "id": "dcce9b13-2105-437e-a8e6-bcb7a6b15762",
   "metadata": {},
   "outputs": [
    {
     "name": "stdout",
     "output_type": "stream",
     "text": [
      "0\n",
      "1\n",
      "1\n",
      "2\n",
      "3\n",
      "5\n",
      "8\n",
      "13\n",
      "21\n",
      "34\n"
     ]
    }
   ],
   "source": [
    "#ques 6 \n",
    "# Initialize the first two Fibonacci numbers\n",
    "num1 = 0\n",
    "num2 = 1\n",
    "\n",
    "# Variable to keep track of the count of Fibonacci numbers printed\n",
    "count = 0\n",
    "\n",
    "# Print the first 10 Fibonacci numbers\n",
    "while count < 10:\n",
    "    # Print the current Fibonacci number\n",
    "    print(num1)\n",
    "\n",
    "    # Calculate the next Fibonacci number\n",
    "    next_num = num1 + num2\n",
    "\n",
    "    # Update the values for the next iteration\n",
    "    num1 = num2\n",
    "    num2 = next_num\n",
    "\n",
    "    # Increment the count\n",
    "    count += 1"
   ]
  },
  {
   "cell_type": "code",
   "execution_count": 17,
   "id": "894cb30b-925d-4e49-8af9-c0308480e9d6",
   "metadata": {},
   "outputs": [
    {
     "name": "stdout",
     "output_type": "stream",
     "text": [
      "['p', 'w', 's', 'k', 'i', 'l', 'l', 's']\n"
     ]
    }
   ],
   "source": [
    "# ques 7 \n",
    "string = 'pwskills'\n",
    "\n",
    "output = [char for char in string if char in 'pwskills']\n",
    "\n",
    "print(output)"
   ]
  },
  {
   "cell_type": "code",
   "execution_count": 18,
   "id": "99460ee2-28bb-4269-991c-29e99232f11e",
   "metadata": {},
   "outputs": [
    {
     "name": "stdin",
     "output_type": "stream",
     "text": [
      "Enter a number:  890\n"
     ]
    },
    {
     "name": "stdout",
     "output_type": "stream",
     "text": [
      "890 is not a palindrome.\n"
     ]
    }
   ],
   "source": [
    "#ques 8\n",
    "def is_palindrome(number):\n",
    "    original_number = number\n",
    "    reversed_number = 0\n",
    "\n",
    "    # Reversing the number\n",
    "    while number > 0:\n",
    "        digit = number % 10\n",
    "        reversed_number = (reversed_number * 10) + digit\n",
    "        number = number // 10\n",
    "\n",
    "    # Checking if the reversed number is equal to the original number\n",
    "    if original_number == reversed_number:\n",
    "        return True\n",
    "    else:\n",
    "        return False\n",
    "\n",
    "# Taking input from the user\n",
    "number = int(input(\"Enter a number: \"))\n",
    "\n",
    "# Checking if the number is a palindrome\n",
    "if is_palindrome(number):\n",
    "    print(f\"{number} is a palindrome.\")\n",
    "else:\n",
    "    print(f\"{number} is not a palindrome.\")\n"
   ]
  },
  {
   "cell_type": "code",
   "execution_count": 19,
   "id": "24b831c2-357b-4b9c-897c-dc59b524cda8",
   "metadata": {},
   "outputs": [
    {
     "name": "stdout",
     "output_type": "stream",
     "text": [
      "[1, 3, 5, 7, 9, 11, 13, 15, 17, 19, 21, 23, 25, 27, 29, 31, 33, 35, 37, 39, 41, 43, 45, 47, 49, 51, 53, 55, 57, 59, 61, 63, 65, 67, 69, 71, 73, 75, 77, 79, 81, 83, 85, 87, 89, 91, 93, 95, 97, 99]\n"
     ]
    }
   ],
   "source": [
    "#ques 9 \n",
    "# List comprehension to create a list from 1 to 100\n",
    "numbers = [num for num in range(1, 101)]\n",
    "\n",
    "# List comprehension to filter out odd numbers\n",
    "odd_numbers = [num for num in numbers if num % 2 != 0]\n",
    "\n",
    "# Print the odd numbers\n",
    "print(odd_numbers)"
   ]
  },
  {
   "cell_type": "code",
   "execution_count": null,
   "id": "d24f1dc8-f2bf-4f45-b020-09b147ffadaa",
   "metadata": {},
   "outputs": [],
   "source": []
  }
 ],
 "metadata": {
  "kernelspec": {
   "display_name": "Python 3 (ipykernel)",
   "language": "python",
   "name": "python3"
  },
  "language_info": {
   "codemirror_mode": {
    "name": "ipython",
    "version": 3
   },
   "file_extension": ".py",
   "mimetype": "text/x-python",
   "name": "python",
   "nbconvert_exporter": "python",
   "pygments_lexer": "ipython3",
   "version": "3.10.8"
  }
 },
 "nbformat": 4,
 "nbformat_minor": 5
}
